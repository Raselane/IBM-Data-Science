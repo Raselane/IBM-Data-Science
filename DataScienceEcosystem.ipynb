{
  "nbformat": 4,
  "nbformat_minor": 0,
  "metadata": {
    "colab": {
      "provenance": []
    },
    "kernelspec": {
      "name": "python3",
      "display_name": "Python 3"
    },
    "language_info": {
      "name": "python"
    }
  },
  "cells": [
    {
      "cell_type": "markdown",
      "source": [
        "#Data Science Tools and Ecosystem"
      ],
      "metadata": {
        "id": "BJeatGv-R13w"
      }
    },
    {
      "cell_type": "markdown",
      "source": [
        "In this notebook, Data Science Tools and Ecosystem are summarized."
      ],
      "metadata": {
        "id": "-6OF4LtPSTSE"
      }
    },
    {
      "cell_type": "markdown",
      "source": [
        "Some of the popular languages that Data Scientists use are:\n",
        "\n",
        "1. **Python**\n",
        "2. **Scala**\n",
        "3. **Java**\n"
      ],
      "metadata": {
        "id": "3FYQifVqTB-V"
      }
    },
    {
      "cell_type": "markdown",
      "source": [
        "Some of the commonly used libraries used by Data Scientists include:\n",
        "\n",
        "1. **Scikit-Learn**\n",
        "2. **Pandas**\n",
        "3. **Numpy**"
      ],
      "metadata": {
        "id": "_4txbfCkT5GL"
      }
    },
    {
      "cell_type": "markdown",
      "source": [
        "| Data Science Tools         |\n",
        "| -------------------------- |\n",
        "| Jupyter Notebooks          |\n",
        "| RStudio                    |\n",
        "| VS Code (Visual Studio Code)|\n"
      ],
      "metadata": {
        "id": "6HjYSHdRUUlY"
      }
    },
    {
      "cell_type": "markdown",
      "source": [
        "### Below are a few examples of evaluating arithmetic expressions in Python.\n"
      ],
      "metadata": {
        "id": "jYHl0iNZVQjm"
      }
    },
    {
      "cell_type": "code",
      "source": [
        "# This a simple arithmetic expression to mutiply then add integers\n",
        "(3*4)+5"
      ],
      "metadata": {
        "colab": {
          "base_uri": "https://localhost:8080/"
        },
        "id": "ObhwWiOLV3D3",
        "outputId": "9c925077-baef-49ec-9b9a-ff7520498822"
      },
      "execution_count": 2,
      "outputs": [
        {
          "output_type": "execute_result",
          "data": {
            "text/plain": [
              "17"
            ]
          },
          "metadata": {},
          "execution_count": 2
        }
      ]
    },
    {
      "cell_type": "code",
      "source": [
        "(200 * 1)/60"
      ],
      "metadata": {
        "colab": {
          "base_uri": "https://localhost:8080/"
        },
        "id": "H9xdEFAMXSvG",
        "outputId": "863af623-743e-417f-9541-135577369502"
      },
      "execution_count": 3,
      "outputs": [
        {
          "output_type": "execute_result",
          "data": {
            "text/plain": [
              "3.3333333333333335"
            ]
          },
          "metadata": {},
          "execution_count": 3
        }
      ]
    },
    {
      "cell_type": "markdown",
      "source": [
        "Objectives:"
      ],
      "metadata": {
        "id": "uHHt3ZtXY14x"
      }
    },
    {
      "cell_type": "markdown",
      "source": [
        "* List popular languages for Data Science\n",
        "* List popular libraries for Data Science\n",
        "* Making arithmetic expression"
      ],
      "metadata": {
        "id": "QKIn3mbfZDE1"
      }
    },
    {
      "cell_type": "markdown",
      "source": [
        "##Author\n",
        "Refiloe Raselane"
      ],
      "metadata": {
        "id": "rhEDAZElZqPI"
      }
    }
  ]
}